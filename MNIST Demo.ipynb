{
 "cells": [
  {
   "cell_type": "code",
   "execution_count": 1,
   "id": "539f6464",
   "metadata": {},
   "outputs": [],
   "source": [
    "from Layers import GraphDense\n",
    "from Activations import Relu, Softmax\n",
    "from Losses import CategoricalCrossentropy\n",
    "from Optimizers import GAdam\n",
    "from Models import GraphModel\n",
    "from Metrics import Accuracy_Categorical\n",
    "from Datasets import MNIST"
   ]
  },
  {
   "cell_type": "code",
   "execution_count": 2,
   "id": "ebd58b00",
   "metadata": {},
   "outputs": [],
   "source": [
    "dataset = MNIST()\n",
    "data = dataset.get_data()"
   ]
  },
  {
   "cell_type": "code",
   "execution_count": 3,
   "id": "49dae707",
   "metadata": {},
   "outputs": [],
   "source": [
    "model = GraphModel()\n",
    "\n",
    "# Add layers\n",
    "l1 = GraphDense(20, Relu())\n",
    "l2 = GraphDense(10, Softmax())\n",
    "g = {\n",
    "    l1: [],\n",
    "    l2: [l1]\n",
    "}\n",
    "model.add(g, [l1], [l2], dataset.f_set_size) \n",
    "\n",
    "# Set loss, optimizer and accuracy objects\n",
    "model.set(\n",
    "    loss=CategoricalCrossentropy(),\n",
    "    optimizer=GAdam(),\n",
    "    accuracy=Accuracy_Categorical()\n",
    ")\n",
    "\n",
    "# Finalize the model\n",
    "model.finalize()"
   ]
  },
  {
   "cell_type": "code",
   "execution_count": 4,
   "id": "47fd9a30",
   "metadata": {},
   "outputs": [
    {
     "name": "stdout",
     "output_type": "stream",
     "text": [
      "epoch: 1, acc: 0.898, loss: 0.301 (data_loss: 0.301, reg_loss: 0.000), lr: 0.001\n",
      "epoch: 2, acc: 0.922, loss: 0.248 (data_loss: 0.248, reg_loss: 0.000), lr: 0.001\n",
      "epoch: 3, acc: 0.914, loss: 0.206 (data_loss: 0.206, reg_loss: 0.000), lr: 0.001\n",
      "epoch: 4, acc: 0.922, loss: 0.185 (data_loss: 0.185, reg_loss: 0.000), lr: 0.001\n",
      "epoch: 5, acc: 0.930, loss: 0.169 (data_loss: 0.169, reg_loss: 0.000), lr: 0.001\n",
      "epoch: 6, acc: 0.938, loss: 0.155 (data_loss: 0.155, reg_loss: 0.000), lr: 0.001\n",
      "epoch: 7, acc: 0.938, loss: 0.144 (data_loss: 0.144, reg_loss: 0.000), lr: 0.001\n",
      "epoch: 8, acc: 0.938, loss: 0.135 (data_loss: 0.135, reg_loss: 0.000), lr: 0.001\n",
      "epoch: 9, acc: 0.938, loss: 0.124 (data_loss: 0.124, reg_loss: 0.000), lr: 0.001\n",
      "epoch: 10, acc: 0.945, loss: 0.118 (data_loss: 0.118, reg_loss: 0.000), lr: 0.001\n",
      "validation, acc: 0.950, loss: 0.173\n"
     ]
    }
   ],
   "source": [
    "model.train(data[\"trn\"][\"X\"],\n",
    "            data[\"trn\"][\"Y\"],\n",
    "            epochs=10, \n",
    "            batch_size=128,\n",
    "            print_every=1,\n",
    "            validation_data=(data[\"val\"][\"X\"], data[\"val\"][\"Y\"]))"
   ]
  },
  {
   "cell_type": "code",
   "execution_count": null,
   "id": "1933776b",
   "metadata": {},
   "outputs": [],
   "source": []
  }
 ],
 "metadata": {
  "kernelspec": {
   "display_name": "Python 3 (ipykernel)",
   "language": "python",
   "name": "python3"
  },
  "language_info": {
   "codemirror_mode": {
    "name": "ipython",
    "version": 3
   },
   "file_extension": ".py",
   "mimetype": "text/x-python",
   "name": "python",
   "nbconvert_exporter": "python",
   "pygments_lexer": "ipython3",
   "version": "3.9.7"
  }
 },
 "nbformat": 4,
 "nbformat_minor": 5
}
