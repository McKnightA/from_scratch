{
 "cells": [
  {
   "cell_type": "code",
   "execution_count": 97,
   "id": "873f3609",
   "metadata": {},
   "outputs": [],
   "source": [
    "import gym\n",
    "import numpy as np\n",
    "import matplotlib.pyplot as plt\n",
    "\n",
    "from Layers import *\n",
    "from Activations import *\n",
    "from Losses import *\n",
    "from Optimizers import *\n",
    "from Models import *\n",
    "from Metrics import *"
   ]
  },
  {
   "cell_type": "code",
   "execution_count": 98,
   "id": "076b1794",
   "metadata": {},
   "outputs": [],
   "source": [
    "# So Much Room for Activities\n",
    "env = gym.make('CartPole-v1')"
   ]
  },
  {
   "cell_type": "code",
   "execution_count": 99,
   "id": "2f521cb2",
   "metadata": {},
   "outputs": [],
   "source": [
    "# Magic Numbers\n",
    "discount_factor = .95\n",
    "eps = 0.31415926535\n",
    "eps_decay_factor = 0.999\n",
    "num_episodes = 1000"
   ]
  },
  {
   "cell_type": "code",
   "execution_count": 100,
   "id": "712db572",
   "metadata": {},
   "outputs": [],
   "source": [
    "# Instantiate the model\n",
    "model = GraphModel()\n",
    "\n",
    "# ### Add layers\n",
    "l1 = GraphDense(20, Relu())\n",
    "l3 = GraphDense(20, Relu())\n",
    "l2 = GraphDense(2, Linear())\n",
    "g = {\n",
    "    l1: [],\n",
    "    l3: [],\n",
    "    l2: [l1, l3]\n",
    "}\n",
    "model.add(g, [l1, l3], [l2], env.observation_space.shape[0]) \n",
    "\n",
    "# Set loss, optimizer and accuracy objects\n",
    "model.set(\n",
    "    loss=MeanSquaredError(),\n",
    "    optimizer=GAdam(),\n",
    "    accuracy=Accuracy_Regression()\n",
    ")\n",
    "\n",
    "# Finalize the model\n",
    "model.finalize()\n"
   ]
  },
  {
   "cell_type": "markdown",
   "id": "27637cdd",
   "metadata": {},
   "source": [
    "lengths = [0]\n",
    "# Try, Try, and Try Again\n",
    "for i in range(num_episodes):\n",
    "    state, _ = env.reset()\n",
    "    eps *= eps_decay_factor\n",
    "    done = False\n",
    "    length = 0\n",
    "    \n",
    "    states = []\n",
    "    targets = []\n",
    "    \n",
    "    # awake\n",
    "    while not done:\n",
    "        length += 1\n",
    "        \n",
    "        states.append(state)\n",
    "        \n",
    "        if np.random.random() < eps:\n",
    "            action = env.action_space.sample()\n",
    "        else:\n",
    "            action = np.argmax(model.predict(state.reshape(-1, 4))[0,0])\n",
    "            \n",
    "        new_state, reward, done, _, __ = env.step(action)\n",
    "        if done or abs(new_state[2]) > abs(state[2]):\n",
    "            reward = -1\n",
    "        else:\n",
    "            reward = 1\n",
    "        \n",
    "        target = reward + discount_factor * np.max(model.predict(new_state.reshape(-1, 4)))\n",
    "        target_vector = model.predict(state.reshape(-1, 4))\n",
    "        target_vector[0, 0, action] = target\n",
    "        \n",
    "        targets.append(target_vector[0, 0])\n",
    "        \n",
    "        state = new_state\n",
    "        \n",
    "    lengths.append(length)\n",
    "    \n",
    "    # sleep\n",
    "    model.train(np.array(states).reshape(-1, len(states), len(states[0])),\n",
    "                np.array(targets).reshape(-1, len(targets), len(targets[0])), \n",
    "                epochs=3, \n",
    "                batch_size=128,\n",
    "                time_series=True,\n",
    "                print_every=10)"
   ]
  },
  {
   "cell_type": "markdown",
   "id": "a009613e",
   "metadata": {},
   "source": [
    "## Side Quest Time\n",
    "#### reduce the number of model predictions to once per loop"
   ]
  },
  {
   "cell_type": "code",
   "execution_count": 101,
   "id": "628f0188",
   "metadata": {},
   "outputs": [],
   "source": [
    "lengths = [0]\n",
    "# Try, Try, and Try Again\n",
    "for i in range(num_episodes):\n",
    "    state, _ = env.reset()\n",
    "    eps *= eps_decay_factor\n",
    "    done = False\n",
    "    length = 0\n",
    "    \n",
    "    states = []\n",
    "    targets = []\n",
    "    \n",
    "    action_value_prediction = model.predict(state.reshape(-1, 4))[0, 0]\n",
    "    \n",
    "    # awake\n",
    "    while not done and length < 10000:\n",
    "        length += 1\n",
    "        \n",
    "        states.append(state)    \n",
    "        \n",
    "        if np.random.random() < eps:\n",
    "            action = env.action_space.sample()\n",
    "        else:\n",
    "            action = np.argmax(action_value_prediction)\n",
    "            \n",
    "        new_state, reward, done, _, __ = env.step(action)\n",
    "        if done or abs(new_state[2]) > abs(state[2]):\n",
    "            reward = -1\n",
    "        else:\n",
    "            reward = 1\n",
    "        \n",
    "        prev_action_value_prediction = action_value_prediction\n",
    "        action_value_prediction = model.predict(new_state.reshape(-1, 4))[0, 0]\n",
    "        \n",
    "        target = reward + discount_factor * np.max(action_value_prediction)\n",
    "        target_vector = prev_action_value_prediction\n",
    "        target_vector[action] = target\n",
    "        \n",
    "        targets.append(target_vector)\n",
    "        \n",
    "        state = new_state\n",
    "        \n",
    "    lengths.append(length)\n",
    "    \n",
    "    # sleep\n",
    "    model.train(np.array(states).reshape(-1, len(states), len(states[0])),\n",
    "                np.array(targets).reshape(-1, len(targets), len(targets[0])), \n",
    "                epochs=3, \n",
    "                batch_size=128,\n",
    "                time_series=True,\n",
    "                print_every=10)"
   ]
  },
  {
   "cell_type": "code",
   "execution_count": 102,
   "id": "08c11b8c",
   "metadata": {},
   "outputs": [],
   "source": [
    "env.close()"
   ]
  },
  {
   "cell_type": "code",
   "execution_count": 103,
   "id": "dfe26de9",
   "metadata": {},
   "outputs": [
    {
     "data": {
      "text/plain": [
       "[<matplotlib.lines.Line2D at 0x2b30ac09be0>]"
      ]
     },
     "execution_count": 103,
     "metadata": {},
     "output_type": "execute_result"
    },
    {
     "data": {
      "image/png": "[encoded data removed]",
      "text/plain": [
       "<Figure size 432x288 with 1 Axes>"
      ]
     },
     "metadata": {
      "needs_background": "light"
     },
     "output_type": "display_data"
    }
   ],
   "source": [
    "plt.plot(lengths)"
   ]
  },
  {
   "cell_type": "code",
   "execution_count": 104,
   "id": "8ba3999d",
   "metadata": {},
   "outputs": [],
   "source": [
    "windows = np.lib.stride_tricks.sliding_window_view(lengths, 50)\n",
    "moving_average = windows.mean(axis=-1)"
   ]
  },
  {
   "cell_type": "code",
   "execution_count": 105,
   "id": "3c9a89e8",
   "metadata": {
    "scrolled": true
   },
   "outputs": [
    {
     "data": {
      "text/plain": [
       "[<matplotlib.lines.Line2D at 0x2b30aa79460>]"
      ]
     },
     "execution_count": 105,
     "metadata": {},
     "output_type": "execute_result"
    },
    {
     "data": {
      "image/png": "[encoded data removed]",
      "text/plain": [
       "<Figure size 432x288 with 1 Axes>"
      ]
     },
     "metadata": {
      "needs_background": "light"
     },
     "output_type": "display_data"
    }
   ],
   "source": [
    "plt.plot(moving_average)"
   ]
  },
  {
   "cell_type": "code",
   "execution_count": null,
   "id": "17804b26",
   "metadata": {},
   "outputs": [],
   "source": []
  }
 ],
 "metadata": {
  "kernelspec": {
   "display_name": "Python 3 (ipykernel)",
   "language": "python",
   "name": "python3"
  },
  "language_info": {
   "codemirror_mode": {
    "name": "ipython",
    "version": 3
   },
   "file_extension": ".py",
   "mimetype": "text/x-python",
   "name": "python",
   "nbconvert_exporter": "python",
   "pygments_lexer": "ipython3",
   "version": "3.9.7"
  }
 },
 "nbformat": 4,
 "nbformat_minor": 5
}
